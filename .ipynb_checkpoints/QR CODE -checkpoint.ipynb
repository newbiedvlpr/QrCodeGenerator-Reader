{
 "cells": [
  {
   "cell_type": "code",
   "execution_count": 1,
   "id": "e9cce787",
   "metadata": {},
   "outputs": [],
   "source": [
    "#libraries\n",
    "import qrcode\n",
    "from PIL import Image"
   ]
  },
  {
   "cell_type": "code",
   "execution_count": 6,
   "id": "645721d4",
   "metadata": {},
   "outputs": [],
   "source": [
    "\n",
    "qr = qrcode.QRCode(version = 1, box_size = 10, border = 5)\n",
    "\n",
    "data = \"https://www.kpitb.gov.pk/projects/kp-citizen-facilitation-program\"\n",
    "qr.add_data(data)\n",
    "qr.make(fit = True)\n",
    "\n",
    "img = qr.make_image(fill = \"blue\" , back_color = \"white\")\n",
    "img.save(\"project2.png\")"
   ]
  },
  {
   "cell_type": "code",
   "execution_count": null,
   "id": "154a1bbe",
   "metadata": {},
   "outputs": [],
   "source": []
  }
 ],
 "metadata": {
  "kernelspec": {
   "display_name": "Python 3 (ipykernel)",
   "language": "python",
   "name": "python3"
  },
  "language_info": {
   "codemirror_mode": {
    "name": "ipython",
    "version": 3
   },
   "file_extension": ".py",
   "mimetype": "text/x-python",
   "name": "python",
   "nbconvert_exporter": "python",
   "pygments_lexer": "ipython3",
   "version": "3.7.11"
  }
 },
 "nbformat": 4,
 "nbformat_minor": 5
}
