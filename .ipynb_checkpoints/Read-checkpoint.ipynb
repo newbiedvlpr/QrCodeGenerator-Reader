{
 "cells": [
  {
   "cell_type": "code",
   "execution_count": 3,
   "id": "d1abe5f9",
   "metadata": {},
   "outputs": [],
   "source": [
    "#libraries\n",
    "from PIL import Image\n",
    "from pyzbar.pyzbar import decode"
   ]
  },
  {
   "cell_type": "code",
   "execution_count": 5,
   "id": "d4e6cbe3",
   "metadata": {},
   "outputs": [
    {
     "name": "stdout",
     "output_type": "stream",
     "text": [
      "[Decoded(data=b'https://www.kpitb.gov.pk/projects/kp-citizen-facilitation-program', type='QRCODE', rect=Rect(left=41, top=41, width=368, height=368), polygon=[Point(x=41, y=41), Point(x=41, y=408), Point(x=409, y=409), Point(x=408, y=41)])]\n"
     ]
    }
   ],
   "source": [
    "result = decode(Image.open('Project.png'))\n",
    "print(result)"
   ]
  },
  {
   "cell_type": "code",
   "execution_count": null,
   "id": "d67979c4",
   "metadata": {},
   "outputs": [],
   "source": []
  }
 ],
 "metadata": {
  "kernelspec": {
   "display_name": "Python 3 (ipykernel)",
   "language": "python",
   "name": "python3"
  },
  "language_info": {
   "codemirror_mode": {
    "name": "ipython",
    "version": 3
   },
   "file_extension": ".py",
   "mimetype": "text/x-python",
   "name": "python",
   "nbconvert_exporter": "python",
   "pygments_lexer": "ipython3",
   "version": "3.7.11"
  }
 },
 "nbformat": 4,
 "nbformat_minor": 5
}
