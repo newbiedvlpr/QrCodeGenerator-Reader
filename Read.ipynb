{
 "cells": [
  {
   "cell_type": "code",
   "execution_count": 1,
   "id": "d1abe5f9",
   "metadata": {},
   "outputs": [],
   "source": [
    "#libraries\n",
    "from PIL import Image\n",
    "from pyzbar.pyzbar import decode"
   ]
  },
  {
   "cell_type": "code",
   "execution_count": 2,
   "id": "51c4595d",
   "metadata": {},
   "outputs": [
    {
     "name": "stdout",
     "output_type": "stream",
     "text": [
      "[Decoded(data=b'https://www.kpitb.gov.pk/projects/kp-citizen-facilitation-program', type='QRCODE', rect=Rect(left=51, top=51, width=368, height=368), polygon=[Point(x=51, y=51), Point(x=51, y=418), Point(x=419, y=419), Point(x=418, y=51)])]\n"
     ]
    }
   ],
   "source": [
    "result = decode(Image.open('project.png'))\n",
    "print(result)"
   ]
  },
  {
   "cell_type": "code",
   "execution_count": null,
   "id": "1db458fc",
   "metadata": {},
   "outputs": [],
   "source": []
  }
 ],
 "metadata": {
  "kernelspec": {
   "display_name": "Python 3 (ipykernel)",
   "language": "python",
   "name": "python3"
  },
  "language_info": {
   "codemirror_mode": {
    "name": "ipython",
    "version": 3
   },
   "file_extension": ".py",
   "mimetype": "text/x-python",
   "name": "python",
   "nbconvert_exporter": "python",
   "pygments_lexer": "ipython3",
   "version": "3.7.11"
  }
 },
 "nbformat": 4,
 "nbformat_minor": 5
}
